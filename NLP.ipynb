{
  "nbformat": 4,
  "nbformat_minor": 0,
  "metadata": {
    "colab": {
      "provenance": [],
      "authorship_tag": "ABX9TyPBw/eR+fFRAKcoN2/V4A7U",
      "include_colab_link": true
    },
    "kernelspec": {
      "name": "python3",
      "display_name": "Python 3"
    },
    "language_info": {
      "name": "python"
    }
  },
  "cells": [
    {
      "cell_type": "markdown",
      "metadata": {
        "id": "view-in-github",
        "colab_type": "text"
      },
      "source": [
        "<a href=\"https://colab.research.google.com/github/ROBERT-SSEBAMBULIDDE/Artificial-Intelligence-case-studies/blob/main/NLP.ipynb\" target=\"_parent\"><img src=\"https://colab.research.google.com/assets/colab-badge.svg\" alt=\"Open In Colab\"/></a>"
      ]
    },
    {
      "cell_type": "code",
      "execution_count": null,
      "metadata": {
        "id": "Vzw492qRdKZr"
      },
      "outputs": [],
      "source": [
        "#Natural Lagauage data processing\n",
        "#install the necessary libraries\n",
        "#!pip install nltp\n",
        "#!pip install spacy"
      ]
    },
    {
      "cell_type": "code",
      "source": [],
      "metadata": {
        "id": "HZQUTwWFuOFQ"
      },
      "execution_count": null,
      "outputs": []
    }
  ]
}